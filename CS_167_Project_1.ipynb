{
  "nbformat": 4,
  "nbformat_minor": 0,
  "metadata": {
    "colab": {
      "provenance": [],
      "authorship_tag": "ABX9TyOqhHJIh50OOCymibOz+Zex",
      "include_colab_link": true
    },
    "kernelspec": {
      "name": "python3",
      "display_name": "Python 3"
    },
    "language_info": {
      "name": "python"
    }
  },
  "cells": [
    {
      "cell_type": "markdown",
      "metadata": {
        "id": "view-in-github",
        "colab_type": "text"
      },
      "source": [
        "<a href=\"https://colab.research.google.com/github/urness/CS167Fall22Project1/blob/main/CS_167_Project_1.ipynb\" target=\"_parent\"><img src=\"https://colab.research.google.com/assets/colab-badge.svg\" alt=\"Open In Colab\"/></a>"
      ]
    },
    {
      "cell_type": "markdown",
      "source": [
        "# Project #1\n",
        "# Name: "
      ],
      "metadata": {
        "id": "-BU7Gq41DZ3J"
      }
    },
    {
      "cell_type": "code",
      "execution_count": 1,
      "metadata": {
        "colab": {
          "base_uri": "https://localhost:8080/"
        },
        "id": "oEYhfh9WDIKb",
        "outputId": "d35230f9-db39-4aca-a2c4-19b29ae511e7"
      },
      "outputs": [
        {
          "output_type": "stream",
          "name": "stdout",
          "text": [
            "Mounted at /content/drive\n"
          ]
        }
      ],
      "source": [
        "# mount drive\n",
        "from google.colab import drive\n",
        "drive.mount('/content/drive')"
      ]
    },
    {
      "cell_type": "code",
      "source": [
        "# import libraries\n",
        "import sklearn\n",
        "import pandas\n",
        "from sklearn import tree\n",
        "from sklearn.model_selection import train_test_split\n",
        "from sklearn import metrics\n",
        "from sklearn import neighbors\n",
        "\n",
        "# load data\n",
        "car_data = pandas.read_csv('/content/drive/MyDrive/CS167Fall22/Datasets/CarPricesProject1.csv')"
      ],
      "metadata": {
        "id": "PfWHIGzlEGlW"
      },
      "execution_count": 14,
      "outputs": []
    },
    {
      "cell_type": "markdown",
      "source": [
        "# Data Preparation\n",
        "Explain your data preparation. What did you have to do to get your data in shape for your experiments - creation of dummy variables, filling in missing values, etc."
      ],
      "metadata": {
        "id": "z11g8GFvIi1R"
      }
    },
    {
      "cell_type": "markdown",
      "source": [
        "# Part 1: Regression\n",
        "How well can you predict target value `price`?"
      ],
      "metadata": {
        "id": "8AOn5pGfIqwM"
      }
    },
    {
      "cell_type": "markdown",
      "source": [
        "- **Metrics**: Identify which metrics you will be using to test your model, and say why they are appropriate. Identify a baseline for your metrics - what would you expect to happen with this particular data if you always guessed the average or if you guessed randomly?\n"
      ],
      "metadata": {
        "id": "lEASENsEfZDo"
      }
    },
    {
      "cell_type": "markdown",
      "source": [
        "- **Initial Models**: Develop basic code for kNN, weighted kNN, and Decision Trees. Make some experiments here, including graphs to help you identify which algorithm and parameters may be best.\n"
      ],
      "metadata": {
        "id": "KUgXptPgfbD5"
      }
    },
    {
      "cell_type": "markdown",
      "source": [
        "- **Fine Tuning**: Create graphs to help you identify the **optimal** values of parameters you wish to use. Utilize different train/test splits. Full credit for thorough testing and documentation.\n"
      ],
      "metadata": {
        "id": "2sVKwkSRfc1g"
      }
    },
    {
      "cell_type": "markdown",
      "source": [
        "- **Analysis**: What did you determine? What did you notice? How did you identify which learning algorithms you will try and which important parameters you will tune for each one? What is your predictions for the 'competition testing set'."
      ],
      "metadata": {
        "id": "BuAc13cbfeTw"
      }
    },
    {
      "cell_type": "markdown",
      "source": [
        "# Part 2: Classification\n",
        "How well can you predict `carbody`?"
      ],
      "metadata": {
        "id": "V66vPg8kI8Ld"
      }
    },
    {
      "cell_type": "markdown",
      "source": [
        "- **Metrics**: Identify which metrics you will be using to test your model, and say why they are appropriate. Identify a baseline for your metrics - what would you expect to happen with this particular data if you always guessed the average or if you guessed randomly?\n"
      ],
      "metadata": {
        "id": "40_i2vfNfjfi"
      }
    },
    {
      "cell_type": "markdown",
      "source": [
        "- **Initial Models**: Develop basic code for kNN, weighted kNN, and Decision Trees. Make some experiments here, including graphs to help you identify which algorithm and parameters may be best.\n"
      ],
      "metadata": {
        "id": "Mhfl0tu4fnI_"
      }
    },
    {
      "cell_type": "markdown",
      "source": [
        "- **Fine Tuning**: Create graphs to help you identify the **optimal** values of parameters you wish to use. Utilize different train/test splits. Full credit for thorough testing and documentation.\n"
      ],
      "metadata": {
        "id": "abe3P_8ofpD6"
      }
    },
    {
      "cell_type": "markdown",
      "source": [
        "- **Analysis**: What did you determine? What did you notice? How did you identify which learning algorithms you will try and which important parameters you will tune for each one? What is your predictions for the 'competition testing set'."
      ],
      "metadata": {
        "id": "r2K1siBQfqXZ"
      }
    },
    {
      "cell_type": "markdown",
      "source": [
        "*don't forget to print out a confusion matrix*"
      ],
      "metadata": {
        "id": "WubWwdQTgEQD"
      }
    },
    {
      "cell_type": "markdown",
      "source": [
        "# Part 3: Conclusions"
      ],
      "metadata": {
        "id": "iTyI7qqXJSBP"
      }
    },
    {
      "cell_type": "markdown",
      "source": [
        "**Bumps in the Road**: What challenges did you encounter? How did you overcome these challenges? Did you have to adapt your strategy to account for these challenges? Why or why not?\n"
      ],
      "metadata": {
        "id": "jHVoNCBogTRB"
      }
    },
    {
      "cell_type": "markdown",
      "source": [
        "**Conclusions:** What insights/recommendations do you have? What did you find that was interesting? Which model was your best model, which models didn't work well? Why do you think this is? In general, I want a discussion of your experiment, the results, and what they mean."
      ],
      "metadata": {
        "id": "Hn9jY5BagYNN"
      }
    }
  ]
}